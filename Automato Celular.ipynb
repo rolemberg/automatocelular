{
 "cells": [
  {
   "cell_type": "code",
   "execution_count": 1,
   "metadata": {
    "collapsed": true
   },
   "outputs": [],
   "source": [
    "from scipy import signal\n",
    "from matplotlib import pyplot\n",
    "import matplotlib as mpl\n",
    "import numpy as np;\n",
    "import random"
   ]
  },
  {
   "cell_type": "markdown",
   "metadata": {},
   "source": [
    "Gera uma quantidade de numeros 0 ou 1, de forma aleatorio."
   ]
  },
  {
   "cell_type": "code",
   "execution_count": 2,
   "metadata": {
    "collapsed": true
   },
   "outputs": [],
   "source": [
    "def randonint(sizerange):\n",
    "    randomico = []\n",
    "    for i in list(range(sizerange)):\n",
    "        randomico.append(random.randint(0,1))\n",
    "    return randomico"
   ]
  },
  {
   "cell_type": "code",
   "execution_count": 3,
   "metadata": {
    "collapsed": true
   },
   "outputs": [],
   "source": [
    "celulas = randonint(7)"
   ]
  },
  {
   "cell_type": "markdown",
   "metadata": {},
   "source": [
    "O metodo getnbr, recupera das celulas quais sao seus vizinhos."
   ]
  },
  {
   "cell_type": "code",
   "execution_count": 4,
   "metadata": {
    "collapsed": true
   },
   "outputs": [],
   "source": [
    "def andapradireita(vizinhos,celulas, c):\n",
    "    if((c + 1) >= len(celulas)):\n",
    "        vizinhos.append(celulas[0])\n",
    "    else:\n",
    "        vizinhos.append(celulas[c+1])\n",
    "    if((c + 2) > len(celulas)):\n",
    "        vizinhos.append(celulas[len(celulas) - c])\n",
    "    elif((c + 2) == len(celulas)):\n",
    "        vizinhos.append(celulas[0])\n",
    "    else:\n",
    "        vizinhos.append(celulas[c+2])\n",
    "    return vizinhos"
   ]
  },
  {
   "cell_type": "code",
   "execution_count": 5,
   "metadata": {
    "collapsed": true
   },
   "outputs": [],
   "source": [
    "def andarpraesquerda(vizinhos,celulas, c):\n",
    "    vizinhos.append(celulas[c-1])\n",
    "    vizinhos.append(celulas[c-2])\n",
    "    vizinhos.append(celulas[c-3])\n",
    "    return vizinhos"
   ]
  },
  {
   "cell_type": "markdown",
   "metadata": {},
   "source": [
    "Este metodo ainda esta faltando um vizinhos, é o terceiro andando para a diretia."
   ]
  },
  {
   "cell_type": "code",
   "execution_count": 6,
   "metadata": {
    "collapsed": true
   },
   "outputs": [],
   "source": [
    "def getnbr(celulas):\n",
    "    final_list_vizinhos=[]\n",
    "    for c in list(range(len(celulas))):\n",
    "        vizinhos = []\n",
    "        vizinhos = andapradireita(vizinhos, celulas,c)\n",
    "        vizinhos.append(celulas[c])\n",
    "        final_list_vizinhos.append(andarpraesquerda(vizinhos, celulas,c))\n",
    "    return final_list_vizinhos"
   ]
  },
  {
   "cell_type": "code",
   "execution_count": 71,
   "metadata": {},
   "outputs": [],
   "source": [
    "nbrs = getnbr(celulas)"
   ]
  },
  {
   "cell_type": "markdown",
   "metadata": {},
   "source": [
    "Preciso pegar as regras e cruzar com os numeros 0 e 1 que serão usados para gerar as CMRs."
   ]
  },
  {
   "cell_type": "markdown",
   "metadata": {},
   "source": [
    "com as cmrs geradas, realiacao o fit de cada cmr e encontrar as melhores cmrs."
   ]
  },
  {
   "cell_type": "markdown",
   "metadata": {},
   "source": [
    "executar a DCT. para 1000 interacoes."
   ]
  },
  {
   "cell_type": "markdown",
   "metadata": {},
   "source": [
    "apos a execuçao das 1000 interacoes, verificar como fica a DCT, para onde foi convergido para o 0 ou para o 1."
   ]
  },
  {
   "cell_type": "markdown",
   "metadata": {},
   "source": [
    "gerar uma nova familia de CMR a partir das melhores, usando algoritmo genetico."
   ]
  },
  {
   "cell_type": "code",
   "execution_count": 74,
   "metadata": {
    "collapsed": true
   },
   "outputs": [],
   "source": [
    "def getCMR(size):\n",
    "    cmrs = {}\n",
    "    for i in list(range(size)):\n",
    "        cmr = {}\n",
    "        cmr[random.choice(regras)] = random.randint(0,1)\n",
    "        cmrs[i] = cmr\n",
    "    return cmrs"
   ]
  },
  {
   "cell_type": "code",
   "execution_count": 75,
   "metadata": {
    "collapsed": true
   },
   "outputs": [],
   "source": [
    "dict_cmrs = getCMR(10)"
   ]
  },
  {
   "cell_type": "code",
   "execution_count": 70,
   "metadata": {},
   "outputs": [
    {
     "name": "stdout",
     "output_type": "stream",
     "text": [
      "acertei 0\n",
      "acertei 1\n",
      "acertei 0\n",
      "acertei 0\n",
      "acertei 1\n"
     ]
    }
   ],
   "source": [
    "for key,value in dict_cmrs.items():\n",
    "    for cmr in value.items():\n",
    "        if(cmr[0]==\"II\"):\n",
    "            print(\"acertei\",cmr[1])"
   ]
  },
  {
   "cell_type": "code",
   "execution_count": null,
   "metadata": {
    "collapsed": true
   },
   "outputs": [],
   "source": []
  }
 ],
 "metadata": {
  "kernelspec": {
   "display_name": "Python 3",
   "language": "python",
   "name": "python3"
  },
  "language_info": {
   "codemirror_mode": {
    "name": "ipython",
    "version": 3
   },
   "file_extension": ".py",
   "mimetype": "text/x-python",
   "name": "python",
   "nbconvert_exporter": "python",
   "pygments_lexer": "ipython3",
   "version": "3.5.4"
  }
 },
 "nbformat": 4,
 "nbformat_minor": 2
}
